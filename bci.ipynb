{
 "cells": [
  {
   "cell_type": "code",
   "execution_count": 1,
   "metadata": {
    "collapsed": true
   },
   "outputs": [],
   "source": [
    "%matplotlib qt\n",
    "import numpy as np\n",
    "import h5py\n",
    "import pickle\n",
    "import os.path as op\n",
    "import matplotlib.pyplot as plt\n",
    "from sklearn.discriminant_analysis import LinearDiscriminantAnalysis"
   ]
  },
  {
   "cell_type": "code",
   "execution_count": 2,
   "metadata": {
    "collapsed": true
   },
   "outputs": [],
   "source": [
    "f = pickle.load( open( \"epla_P04S01_.p\", \"rb\" ) )\n",
    "# f = pickle.load( open( \"epla_P02S04_.p\", \"rb\" ) )\n",
    "epochs = f[\"epochs\"]\n",
    "labels = f[\"labels\"]\n",
    "real_word = ['C','A','L','I','B','R','A','T','I','O','N']"
   ]
  },
  {
   "cell_type": "code",
   "execution_count": 10,
   "metadata": {},
   "outputs": [
    {
     "name": "stdout",
     "output_type": "stream",
     "text": [
      "10 10 10\n"
     ]
    }
   ],
   "source": [
    "count_1 = 0\n",
    "count_2 = 0\n",
    "count_3 = 0\n",
    "mask = np.zeros(epochs[0].shape[2])\n",
    "l = np.linspace(0,1,20)\n",
    "mask[20:40] = 1\n",
    "mask[:20] = l\n",
    "l = np.linspace(1,0,len(mask)-40)\n",
    "mask[40:] = l\n",
    "#mask = np.ones(ed.shape[2])\n",
    "\n",
    "for i in range(len(epochs)):\n",
    "    e = epochs[i]\n",
    "    lab = labels[i]\n",
    "    fig = plt.figure()\n",
    "    lab = labels[i]\n",
    "    M = np.zeros([e.shape[1]*e.shape[2],e.shape[0]])\n",
    "    for j in range(e.shape[0]):\n",
    "        tmp = e[j].copy()\n",
    "        for t in range(tmp.shape[0]):\n",
    "            tmp[t,:] = tmp[t,:] * mask\n",
    "        M[:,j] = np.reshape(tmp,e.shape[1]*e.shape[2])\n",
    "    u,s,v = np.linalg.svd(M/np.linalg.norm(M),full_matrices=False)\n",
    "    tmp = np.cumsum(s**2) - 1\n",
    "    n = np.zeros(len(tmp))\n",
    "    for j in range(len(tmp)):\n",
    "        n[j] = np.linalg.norm(np.array([float(j)/len(tmp),tmp[j]]),1)\n",
    "    idx = np.argmin(n)\n",
    "    M = u[:,:idx].T.dot(M)\n",
    "    n = np.zeros(len(lab))\n",
    "    for li, key in enumerate(lab):\n",
    "        l = lab[key]\n",
    "        idx_t = np.where(l==0)[0]\n",
    "        idx_nt = np.where(l==1)[0]\n",
    "        M_ref = np.mean(M[:,idx_t],axis=1)\n",
    "        X = M.T.copy()\n",
    "        y = np.zeros(X.shape[0])\n",
    "        y[idx_t] = 1\n",
    "        M_nt_mean = np.mean(X[idx_nt],axis=0)\n",
    "        \n",
    "        clf = LinearDiscriminantAnalysis(solver='lsqr', shrinkage='auto').fit(X, y)       \n",
    "        \n",
    "        n[li] = clf.predict_proba(np.atleast_2d(M_ref))[0,1]\n",
    "        if key==real_word[i]:\n",
    "            z = li\n",
    "            C = clf.covariance_.copy()\n",
    "            u,s,v = np.linalg.svd(C)\n",
    "            s = 1./np.sqrt(s)\n",
    "            P = u.dot(np.diag(s))\n",
    "            X_t = X[idx_t,:].dot(P)\n",
    "            X_nt = X[idx_nt,:].dot(P)\n",
    "            v_proj = np.mean(X_t,axis=0) - np.mean(X_nt,axis=0)\n",
    "            X_t = X_t.dot(v_proj.T)\n",
    "            X_nt = X_nt.dot(v_proj.T)\n",
    "            plt.plot(X_nt,np.ones(len(X_nt)),'b.')\n",
    "            plt.plot(X_t,np.ones(len(X_t)),'r.')\n",
    "    idx = np.argsort(n)[::-1]\n",
    "    n = n[idx]\n",
    "    z2 = np.where(idx==z)[0]\n",
    "    if z2==0:\n",
    "        count_1 += 1\n",
    "    if z2<=1:\n",
    "        count_2 += 1\n",
    "    if z2<=2:\n",
    "        count_3 += 1\n",
    "#     plt.plot(n,'b.-')\n",
    "#     plt.plot(z2,n[z2],'r*')\n",
    "    plt.show()\n",
    "print count_1, count_2, count_3            "
   ]
  }
 ],
 "metadata": {
  "kernelspec": {
   "display_name": "Python 2",
   "language": "python",
   "name": "python2"
  },
  "language_info": {
   "codemirror_mode": {
    "name": "ipython",
    "version": 2
   },
   "file_extension": ".py",
   "mimetype": "text/x-python",
   "name": "python",
   "nbconvert_exporter": "python",
   "pygments_lexer": "ipython2",
   "version": "2.7.15"
  }
 },
 "nbformat": 4,
 "nbformat_minor": 2
}
